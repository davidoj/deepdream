{
 "cells": [
  {
   "cell_type": "markdown",
   "metadata": {
    "colab_type": "text",
    "id": "RMhGdYHuOZM8"
   },
   "source": [
    "# Deep dreams\n",
    "\n",
    "In this notebook we investigate computer image recognition software works. This software automatically figures out what things are in a picture:\n",
    "\n",
    "![title](http://image-net.org/challenges/LSVRC/2014/ILSVRC2012_val_00004945.png)\n",
    "\n",
    "This is the sort of software Facebook uses to guess which of your friends are in a photo. In particular, we are investigating a kind of image recognition software called a *neural network*.\n",
    "\n",
    "A neural network is arranged in a series of layers. The image passes through each layer starting with *c1*, and each layer performing a particular kind of processing to the image. At the end, the network outputs the objects it has identified:\n",
    "  \n",
    "![title](net.png)\n",
    "  \n",
    "We can think of each layer having the job of looking for some particular features in the image. Early layers look for simple things like edges or curves, layers in the middle look for different kinds of shapes and layers at the end might look for eyes, animals or buildings.\n",
    "\n",
    "Human and animal brains also process the images from their eyes in layers. Early layers look for simpler features, and later layers look for more complex ones.\n",
    "\n",
    "In this notebook, we are going to visualise what the different layers of a *neural network* are looking for.\n",
    "\n",
    "![title](deepdream.png)\n",
    "\n",
    "## Using this notebook\n",
    "\n",
    "This is a python notebook - the cells with code in them are written in the programming language [python](https://wiki.python.org/moin/BeginnersGuide/NonProgrammers). You don't need to know any python to use this notebook.\n",
    "\n",
    "If you click on a cell with code in it and press **shift-enter** it will run what is in the cell. Make sure you start at the top. If you run a cell at the bottom and it doesn't work, it might be because you haven't run the cells at the top yet.\n",
    "\n",
    "You don't need to change anything to use this notebook - run everything first to see what it does! When you do want to try changing things, remember that pressing **ctrl-z** will undo whatever you've done in the cell you currently have selected. If you make a change and things stop working, try pressing **ctrl-z** a few times until it starts working, then try again!"
   ]
  },
  {
   "cell_type": "code",
   "execution_count": null,
   "metadata": {
    "cellView": "both",
    "colab_type": "code",
    "collapsed": false,
    "id": "Pqz5k4syOZNA"
   },
   "outputs": [],
   "source": [
    "# Run this first - it loads the progam\n",
    "from dream import deepdream, dreaminto, showimage, openimage, net"
   ]
  },
  {
   "cell_type": "markdown",
   "metadata": {},
   "source": [
    "## Loading and showing images\n",
    "\n",
    "The cell below shows you how to load and show images. Running it (**shift-enter**) will show you the default image for this notebook. "
   ]
  },
  {
   "cell_type": "code",
   "execution_count": null,
   "metadata": {
    "cellView": "both",
    "colab_type": "code",
    "collapsed": false,
    "executionInfo": null,
    "id": "40p5AqqwOZN5",
    "outputId": "f62cde37-79e8-420a-e448-3b9b48ee1730",
    "pinned": false
   },
   "outputs": [],
   "source": [
    "img = openimage('sky1024px.jpg')\n",
    "showimage(img)"
   ]
  },
  {
   "cell_type": "markdown",
   "metadata": {
    "colab_type": "text",
    "id": "Z9_215_GOZOL"
   },
   "source": [
    "## Investigating the program\n",
    "\n",
    "Here is the meat of the notebook. The image recognition software we are using is a *neural network* (which is the thing called 'net' above, if you were wondering).\n",
    "\n",
    "\n",
    "\n",
    "A net, image and layer are already chosen and loaded. Press **shift-enter** in the next cell to see what `deepdream` does. What kinds of features seem to activate the c2 layer?"
   ]
  },
  {
   "cell_type": "code",
   "execution_count": null,
   "metadata": {
    "cellView": "both",
    "colab_type": "code",
    "collapsed": false,
    "executionInfo": null,
    "id": "HlnVnDTlOZOL",
    "outputId": "425dfc83-b474-4a69-8386-30d86361bbf6",
    "pinned": false
   },
   "outputs": [],
   "source": [
    "deepdream(net, img, layer='c2')"
   ]
  },
  {
   "cell_type": "markdown",
   "metadata": {},
   "source": [
    "## Making your own pictures\n",
    "\n",
    "Now that you've seen the basics of how this works, there are two things to try out:\n",
    "   1. Try using a different picture from the internet. Read **If you want to change to a different picture**  below.\n",
    "   2. Try \"dreaming\" with a different layer. You can see the layer names in the diagram of the net above, or choose them from this list:  \n",
    "        'c1'  \n",
    "        'p1'  \n",
    "        'c2'  \n",
    "        'p2'  \n",
    "        'i3a'  \n",
    "        'i3b'  \n",
    "        'p3'  \n",
    "        'i4a'  \n",
    "        'i4b'  \n",
    "        'i4c'  \n",
    "        'i4d'  \n",
    "        'i4e'  \n",
    "        'p4'  \n",
    "        'i5a'  \n",
    "        'i5b'  \n",
    "**REMEMBER THAT THE LAYER NAME NEEDS QUOTE MARKS AROUND IT**\n",
    "\n",
    "### If you want to change to a different picture\n",
    "\n",
    "1. Find a picture on the internet\n",
    "2. Right click on the picture and select \"copy imiage location\" or \"copy image address\"\n",
    "3. Find the cell above where it says `img = openimage('sky1024px.jpg')`. Paste your link where it says `sky1024px.jpg`\n",
    "4. It should say something like:  \n",
    "     `img = openimage('http://www.teamliquid.net/staff/shiroiusagi/2016/coverage/GSL_fp.jpg')`   \n",
    "     **NOTE THE QUOTE MARKS ON EITHER SIDE OF YOUR IMAGE ADDRESS**\n",
    "5. Everything else should be as before. Press **shift-enter** to show your new picture"
   ]
  },
  {
   "cell_type": "code",
   "execution_count": null,
   "metadata": {
    "cellView": "both",
    "colab_type": "code",
    "collapsed": false,
    "executionInfo": null,
    "id": "eHOX0t93OZOR",
    "outputId": "0de0381c-4681-4619-912f-9b6a2cdec0c6",
    "pinned": false,
    "scrolled": true
   },
   "outputs": [],
   "source": [
    "deepdream(net, img, layer='i5b')"
   ]
  },
  {
   "cell_type": "markdown",
   "metadata": {},
   "source": [
    "## More dreams\n",
    "\n",
    "For more variety, we can 'dream' parts of a second image into the first. You can change the layer and images here just like you did before."
   ]
  },
  {
   "cell_type": "code",
   "execution_count": null,
   "metadata": {
    "collapsed": false
   },
   "outputs": [],
   "source": [
    "img2 = openimage('flower.jpg')\n",
    "showimage(img2)"
   ]
  },
  {
   "cell_type": "code",
   "execution_count": null,
   "metadata": {
    "collapsed": false,
    "scrolled": true
   },
   "outputs": [],
   "source": [
    "_ = dreaminto(net, img, img2, layer = 'i4c')"
   ]
  },
  {
   "cell_type": "markdown",
   "metadata": {},
   "source": []
  }
 ],
 "metadata": {
  "colabVersion": "0.3.1",
  "default_view": {},
  "kernelspec": {
   "display_name": "Python 2",
   "language": "python",
   "name": "python2"
  },
  "language_info": {
   "codemirror_mode": {
    "name": "ipython",
    "version": 2
   },
   "file_extension": ".py",
   "mimetype": "text/x-python",
   "name": "python",
   "nbconvert_exporter": "python",
   "pygments_lexer": "ipython2",
   "version": "2.7.6"
  },
  "views": {}
 },
 "nbformat": 4,
 "nbformat_minor": 0
}
